{
 "cells": [
  {
   "cell_type": "code",
   "execution_count": 1,
   "id": "b4387d0c",
   "metadata": {},
   "outputs": [],
   "source": [
    "import numpy as np\n",
    "import pandas as pd\n",
    "import os\n",
    "\n",
    "# 1.1 Call sklearn libraries\n",
    "\n",
    "# 1.1.1 Split data into train and test data\n",
    "from sklearn.model_selection import train_test_split\n",
    "\n",
    "# 1.1.2 PReprocessong:\n",
    "from sklearn.preprocessing import StandardScaler\n",
    "\n",
    "# 1.1.3 Import class DecisionTreeClassifier\n",
    "from sklearn.tree import DecisionTreeClassifier as dtree\n",
    "\n",
    "# 1.1.4 To draw decision tree\n",
    "from sklearn.tree import export_graphviz\n",
    "\n",
    "# 1.1.5\n",
    "from sklearn.tree import plot_tree\n",
    "import matplotlib.pyplot as plt\n",
    "import seaborn as sns"
   ]
  },
  {
   "cell_type": "code",
   "execution_count": 2,
   "id": "985edb1e",
   "metadata": {},
   "outputs": [],
   "source": [
    "df = pd.read_csv(\"Real_fake_news.csv\")"
   ]
  },
  {
   "cell_type": "code",
   "execution_count": 3,
   "id": "9f50cc1f",
   "metadata": {},
   "outputs": [
    {
     "data": {
      "text/html": [
       "<div>\n",
       "<style scoped>\n",
       "    .dataframe tbody tr th:only-of-type {\n",
       "        vertical-align: middle;\n",
       "    }\n",
       "\n",
       "    .dataframe tbody tr th {\n",
       "        vertical-align: top;\n",
       "    }\n",
       "\n",
       "    .dataframe thead th {\n",
       "        text-align: right;\n",
       "    }\n",
       "</style>\n",
       "<table border=\"1\" class=\"dataframe\">\n",
       "  <thead>\n",
       "    <tr style=\"text-align: right;\">\n",
       "      <th></th>\n",
       "      <th>Unnamed: 0</th>\n",
       "      <th>Unnamed: 0.1</th>\n",
       "      <th>author</th>\n",
       "      <th>statement</th>\n",
       "      <th>source</th>\n",
       "      <th>target</th>\n",
       "      <th>BinaryTarget</th>\n",
       "      <th>BinaryNumTarget</th>\n",
       "    </tr>\n",
       "  </thead>\n",
       "  <tbody>\n",
       "    <tr>\n",
       "      <th>0</th>\n",
       "      <td>0</td>\n",
       "      <td>0</td>\n",
       "      <td>Jill Terreri</td>\n",
       "      <td>New York is \"leading the nation with the lowes...</td>\n",
       "      <td>NYS Department of Corrections and Community Su...</td>\n",
       "      <td>True</td>\n",
       "      <td>REAL</td>\n",
       "      <td>1</td>\n",
       "    </tr>\n",
       "    <tr>\n",
       "      <th>1</th>\n",
       "      <td>1</td>\n",
       "      <td>1</td>\n",
       "      <td>Eleanor Hildebrandt</td>\n",
       "      <td>“Iowa ranks 45th in the U.S. for internet conn...</td>\n",
       "      <td>Cindy Axne</td>\n",
       "      <td>True</td>\n",
       "      <td>REAL</td>\n",
       "      <td>1</td>\n",
       "    </tr>\n",
       "    <tr>\n",
       "      <th>2</th>\n",
       "      <td>2</td>\n",
       "      <td>2</td>\n",
       "      <td>Emily Zirkelbach</td>\n",
       "      <td>“FUN FACT: West Virginia is home to zero billi...</td>\n",
       "      <td>David Gura</td>\n",
       "      <td>True</td>\n",
       "      <td>REAL</td>\n",
       "      <td>1</td>\n",
       "    </tr>\n",
       "    <tr>\n",
       "      <th>3</th>\n",
       "      <td>3</td>\n",
       "      <td>3</td>\n",
       "      <td>Madeline Heim</td>\n",
       "      <td>Says gubernatorial candidate Rebecca Kleefisch...</td>\n",
       "      <td>Kelda Helen Roys</td>\n",
       "      <td>True</td>\n",
       "      <td>REAL</td>\n",
       "      <td>1</td>\n",
       "    </tr>\n",
       "    <tr>\n",
       "      <th>4</th>\n",
       "      <td>4</td>\n",
       "      <td>4</td>\n",
       "      <td>Sabine Martin</td>\n",
       "      <td>The Biden administration \"published a study co...</td>\n",
       "      <td>Randy Feenstra</td>\n",
       "      <td>True</td>\n",
       "      <td>REAL</td>\n",
       "      <td>1</td>\n",
       "    </tr>\n",
       "  </tbody>\n",
       "</table>\n",
       "</div>"
      ],
      "text/plain": [
       "   Unnamed: 0  Unnamed: 0.1               author  \\\n",
       "0           0             0         Jill Terreri   \n",
       "1           1             1  Eleanor Hildebrandt   \n",
       "2           2             2     Emily Zirkelbach   \n",
       "3           3             3        Madeline Heim   \n",
       "4           4             4        Sabine Martin   \n",
       "\n",
       "                                           statement  \\\n",
       "0  New York is \"leading the nation with the lowes...   \n",
       "1  “Iowa ranks 45th in the U.S. for internet conn...   \n",
       "2  “FUN FACT: West Virginia is home to zero billi...   \n",
       "3  Says gubernatorial candidate Rebecca Kleefisch...   \n",
       "4  The Biden administration \"published a study co...   \n",
       "\n",
       "                                              source  target BinaryTarget  \\\n",
       "0  NYS Department of Corrections and Community Su...    True         REAL   \n",
       "1                                         Cindy Axne    True         REAL   \n",
       "2                                         David Gura    True         REAL   \n",
       "3                                   Kelda Helen Roys    True         REAL   \n",
       "4                                     Randy Feenstra    True         REAL   \n",
       "\n",
       "   BinaryNumTarget  \n",
       "0                1  \n",
       "1                1  \n",
       "2                1  \n",
       "3                1  \n",
       "4                1  "
      ]
     },
     "execution_count": 3,
     "metadata": {},
     "output_type": "execute_result"
    }
   ],
   "source": [
    "df.head()"
   ]
  },
  {
   "cell_type": "code",
   "execution_count": 4,
   "id": "4fc09576",
   "metadata": {},
   "outputs": [],
   "source": [
    "df.columns = list(map(lambda a: a.lstrip(), df.columns))"
   ]
  },
  {
   "cell_type": "code",
   "execution_count": 5,
   "id": "cb58c9c2",
   "metadata": {},
   "outputs": [
    {
     "data": {
      "text/plain": [
       "Unnamed: 0         0\n",
       "Unnamed: 0.1       0\n",
       "author             0\n",
       "statement          0\n",
       "source             0\n",
       "target             0\n",
       "BinaryTarget       0\n",
       "BinaryNumTarget    0\n",
       "dtype: int64"
      ]
     },
     "execution_count": 5,
     "metadata": {},
     "output_type": "execute_result"
    }
   ],
   "source": [
    "df.isnull().sum()"
   ]
  },
  {
   "cell_type": "code",
   "execution_count": 6,
   "id": "0a360859",
   "metadata": {},
   "outputs": [
    {
     "data": {
      "text/plain": [
       "(4870, 8)"
      ]
     },
     "execution_count": 6,
     "metadata": {},
     "output_type": "execute_result"
    }
   ],
   "source": [
    "df.shape"
   ]
  },
  {
   "cell_type": "code",
   "execution_count": 7,
   "id": "da7e1226",
   "metadata": {},
   "outputs": [
    {
     "data": {
      "text/plain": [
       "Ciara O'Rourke        669\n",
       "Tom Kertscher         311\n",
       "Louis Jacobson        250\n",
       "Samantha Putterman    242\n",
       "Jon Greenberg         153\n",
       "                     ... \n",
       "John Bartosek           1\n",
       "Asjylyn Loder           1\n",
       "Riley Snyder            1\n",
       "Sarah Watson            1\n",
       "Madeleine Doubek        1\n",
       "Name: author, Length: 318, dtype: int64"
      ]
     },
     "execution_count": 7,
     "metadata": {},
     "output_type": "execute_result"
    }
   ],
   "source": [
    "df['author'].value_counts()"
   ]
  },
  {
   "cell_type": "code",
   "execution_count": 8,
   "id": "62a0390c",
   "metadata": {},
   "outputs": [],
   "source": [
    "df.drop(['Unnamed: 0','Unnamed: 0.1'], axis=1, inplace=True)"
   ]
  },
  {
   "cell_type": "code",
   "execution_count": 9,
   "id": "6f76a59a",
   "metadata": {},
   "outputs": [
    {
     "data": {
      "text/html": [
       "<div>\n",
       "<style scoped>\n",
       "    .dataframe tbody tr th:only-of-type {\n",
       "        vertical-align: middle;\n",
       "    }\n",
       "\n",
       "    .dataframe tbody tr th {\n",
       "        vertical-align: top;\n",
       "    }\n",
       "\n",
       "    .dataframe thead th {\n",
       "        text-align: right;\n",
       "    }\n",
       "</style>\n",
       "<table border=\"1\" class=\"dataframe\">\n",
       "  <thead>\n",
       "    <tr style=\"text-align: right;\">\n",
       "      <th></th>\n",
       "      <th>target</th>\n",
       "      <th>BinaryNumTarget</th>\n",
       "      <th>author_Aaron Marshall</th>\n",
       "      <th>author_Aaron Sharockman</th>\n",
       "      <th>author_Adam Thorp</th>\n",
       "      <th>author_Adrianne Uphold</th>\n",
       "      <th>author_Adriel Bettelheim</th>\n",
       "      <th>author_Al Bernardi</th>\n",
       "      <th>author_Alan Gathright</th>\n",
       "      <th>author_Alan Hovorka</th>\n",
       "      <th>...</th>\n",
       "      <th>source_Yard sign</th>\n",
       "      <th>source_Yes On 62 campaign to abolish California's death penalty</th>\n",
       "      <th>source_YouTube videos</th>\n",
       "      <th>source_YourContent</th>\n",
       "      <th>source_Yvette McGee Brown</th>\n",
       "      <th>source_Zach Wahls</th>\n",
       "      <th>source_Zerlina Maxwell</th>\n",
       "      <th>source_teaparty.org</th>\n",
       "      <th>BinaryTarget_FAKE</th>\n",
       "      <th>BinaryTarget_REAL</th>\n",
       "    </tr>\n",
       "  </thead>\n",
       "  <tbody>\n",
       "    <tr>\n",
       "      <th>0</th>\n",
       "      <td>True</td>\n",
       "      <td>1</td>\n",
       "      <td>0</td>\n",
       "      <td>0</td>\n",
       "      <td>0</td>\n",
       "      <td>0</td>\n",
       "      <td>0</td>\n",
       "      <td>0</td>\n",
       "      <td>0</td>\n",
       "      <td>0</td>\n",
       "      <td>...</td>\n",
       "      <td>0</td>\n",
       "      <td>0</td>\n",
       "      <td>0</td>\n",
       "      <td>0</td>\n",
       "      <td>0</td>\n",
       "      <td>0</td>\n",
       "      <td>0</td>\n",
       "      <td>0</td>\n",
       "      <td>0</td>\n",
       "      <td>1</td>\n",
       "    </tr>\n",
       "    <tr>\n",
       "      <th>1</th>\n",
       "      <td>True</td>\n",
       "      <td>1</td>\n",
       "      <td>0</td>\n",
       "      <td>0</td>\n",
       "      <td>0</td>\n",
       "      <td>0</td>\n",
       "      <td>0</td>\n",
       "      <td>0</td>\n",
       "      <td>0</td>\n",
       "      <td>0</td>\n",
       "      <td>...</td>\n",
       "      <td>0</td>\n",
       "      <td>0</td>\n",
       "      <td>0</td>\n",
       "      <td>0</td>\n",
       "      <td>0</td>\n",
       "      <td>0</td>\n",
       "      <td>0</td>\n",
       "      <td>0</td>\n",
       "      <td>0</td>\n",
       "      <td>1</td>\n",
       "    </tr>\n",
       "    <tr>\n",
       "      <th>2</th>\n",
       "      <td>True</td>\n",
       "      <td>1</td>\n",
       "      <td>0</td>\n",
       "      <td>0</td>\n",
       "      <td>0</td>\n",
       "      <td>0</td>\n",
       "      <td>0</td>\n",
       "      <td>0</td>\n",
       "      <td>0</td>\n",
       "      <td>0</td>\n",
       "      <td>...</td>\n",
       "      <td>0</td>\n",
       "      <td>0</td>\n",
       "      <td>0</td>\n",
       "      <td>0</td>\n",
       "      <td>0</td>\n",
       "      <td>0</td>\n",
       "      <td>0</td>\n",
       "      <td>0</td>\n",
       "      <td>0</td>\n",
       "      <td>1</td>\n",
       "    </tr>\n",
       "    <tr>\n",
       "      <th>3</th>\n",
       "      <td>True</td>\n",
       "      <td>1</td>\n",
       "      <td>0</td>\n",
       "      <td>0</td>\n",
       "      <td>0</td>\n",
       "      <td>0</td>\n",
       "      <td>0</td>\n",
       "      <td>0</td>\n",
       "      <td>0</td>\n",
       "      <td>0</td>\n",
       "      <td>...</td>\n",
       "      <td>0</td>\n",
       "      <td>0</td>\n",
       "      <td>0</td>\n",
       "      <td>0</td>\n",
       "      <td>0</td>\n",
       "      <td>0</td>\n",
       "      <td>0</td>\n",
       "      <td>0</td>\n",
       "      <td>0</td>\n",
       "      <td>1</td>\n",
       "    </tr>\n",
       "    <tr>\n",
       "      <th>4</th>\n",
       "      <td>True</td>\n",
       "      <td>1</td>\n",
       "      <td>0</td>\n",
       "      <td>0</td>\n",
       "      <td>0</td>\n",
       "      <td>0</td>\n",
       "      <td>0</td>\n",
       "      <td>0</td>\n",
       "      <td>0</td>\n",
       "      <td>0</td>\n",
       "      <td>...</td>\n",
       "      <td>0</td>\n",
       "      <td>0</td>\n",
       "      <td>0</td>\n",
       "      <td>0</td>\n",
       "      <td>0</td>\n",
       "      <td>0</td>\n",
       "      <td>0</td>\n",
       "      <td>0</td>\n",
       "      <td>0</td>\n",
       "      <td>1</td>\n",
       "    </tr>\n",
       "  </tbody>\n",
       "</table>\n",
       "<p>5 rows × 6681 columns</p>\n",
       "</div>"
      ],
      "text/plain": [
       "   target  BinaryNumTarget  author_Aaron Marshall  author_Aaron Sharockman  \\\n",
       "0    True                1                      0                        0   \n",
       "1    True                1                      0                        0   \n",
       "2    True                1                      0                        0   \n",
       "3    True                1                      0                        0   \n",
       "4    True                1                      0                        0   \n",
       "\n",
       "   author_Adam Thorp  author_Adrianne Uphold  author_Adriel Bettelheim  \\\n",
       "0                  0                       0                         0   \n",
       "1                  0                       0                         0   \n",
       "2                  0                       0                         0   \n",
       "3                  0                       0                         0   \n",
       "4                  0                       0                         0   \n",
       "\n",
       "   author_Al Bernardi  author_Alan Gathright  author_Alan Hovorka  ...  \\\n",
       "0                   0                      0                    0  ...   \n",
       "1                   0                      0                    0  ...   \n",
       "2                   0                      0                    0  ...   \n",
       "3                   0                      0                    0  ...   \n",
       "4                   0                      0                    0  ...   \n",
       "\n",
       "   source_Yard sign  \\\n",
       "0                 0   \n",
       "1                 0   \n",
       "2                 0   \n",
       "3                 0   \n",
       "4                 0   \n",
       "\n",
       "   source_Yes On 62 campaign to abolish California's death penalty  \\\n",
       "0                                                  0                 \n",
       "1                                                  0                 \n",
       "2                                                  0                 \n",
       "3                                                  0                 \n",
       "4                                                  0                 \n",
       "\n",
       "   source_YouTube videos  source_YourContent  source_Yvette McGee Brown  \\\n",
       "0                      0                   0                          0   \n",
       "1                      0                   0                          0   \n",
       "2                      0                   0                          0   \n",
       "3                      0                   0                          0   \n",
       "4                      0                   0                          0   \n",
       "\n",
       "   source_Zach Wahls  source_Zerlina Maxwell  source_teaparty.org  \\\n",
       "0                  0                       0                    0   \n",
       "1                  0                       0                    0   \n",
       "2                  0                       0                    0   \n",
       "3                  0                       0                    0   \n",
       "4                  0                       0                    0   \n",
       "\n",
       "   BinaryTarget_FAKE  BinaryTarget_REAL  \n",
       "0                  0                  1  \n",
       "1                  0                  1  \n",
       "2                  0                  1  \n",
       "3                  0                  1  \n",
       "4                  0                  1  \n",
       "\n",
       "[5 rows x 6681 columns]"
      ]
     },
     "execution_count": 9,
     "metadata": {},
     "output_type": "execute_result"
    }
   ],
   "source": [
    "df_final = pd.get_dummies(df)\n",
    "df_final.head()"
   ]
  },
  {
   "cell_type": "code",
   "execution_count": 10,
   "id": "247deabc",
   "metadata": {},
   "outputs": [],
   "source": [
    "num_atr=[]\n",
    "\n",
    "cat_atr=['author' , 'statement' , 'source']"
   ]
  },
  {
   "cell_type": "markdown",
   "id": "2935cfb1",
   "metadata": {},
   "source": [
    "KNN Classification"
   ]
  },
  {
   "cell_type": "code",
   "execution_count": 11,
   "id": "3005276a",
   "metadata": {},
   "outputs": [],
   "source": [
    "from sklearn.model_selection import train_test_split\n",
    "X= df.drop(['BinaryNumTarget', 'BinaryTarget', 'target'], axis=1)\n",
    "y= df['BinaryNumTarget']\n",
    "\n",
    "\n",
    "X_train,X_test,y_train,y_test=train_test_split(X,y,test_size=0.3,random_state=1)"
   ]
  },
  {
   "cell_type": "code",
   "execution_count": 12,
   "id": "0a6c93aa",
   "metadata": {},
   "outputs": [],
   "source": [
    "from sklearn.preprocessing import StandardScaler\n",
    "from sklearn.metrics import mean_squared_error,r2_score \n",
    "from sklearn.preprocessing import OneHotEncoder as onehot\n",
    "from sklearn.preprocessing import LabelEncoder"
   ]
  },
  {
   "cell_type": "code",
   "execution_count": 13,
   "id": "53d5255f",
   "metadata": {},
   "outputs": [
    {
     "name": "stderr",
     "output_type": "stream",
     "text": [
      "C:\\ProgramData\\Anaconda31\\lib\\site-packages\\pandas\\core\\frame.py:3191: SettingWithCopyWarning: \n",
      "A value is trying to be set on a copy of a slice from a DataFrame.\n",
      "Try using .loc[row_indexer,col_indexer] = value instead\n",
      "\n",
      "See the caveats in the documentation: https://pandas.pydata.org/pandas-docs/stable/user_guide/indexing.html#returning-a-view-versus-a-copy\n",
      "  self[k1] = value[k2]\n"
     ]
    }
   ],
   "source": [
    "#le = LabelEncoder()\n",
    "X_train[cat_atr] = X_train[cat_atr].apply(LabelEncoder().fit_transform)"
   ]
  },
  {
   "cell_type": "code",
   "execution_count": 14,
   "id": "94bc2289",
   "metadata": {},
   "outputs": [
    {
     "data": {
      "text/html": [
       "<div>\n",
       "<style scoped>\n",
       "    .dataframe tbody tr th:only-of-type {\n",
       "        vertical-align: middle;\n",
       "    }\n",
       "\n",
       "    .dataframe tbody tr th {\n",
       "        vertical-align: top;\n",
       "    }\n",
       "\n",
       "    .dataframe thead th {\n",
       "        text-align: right;\n",
       "    }\n",
       "</style>\n",
       "<table border=\"1\" class=\"dataframe\">\n",
       "  <thead>\n",
       "    <tr style=\"text-align: right;\">\n",
       "      <th></th>\n",
       "      <th>author</th>\n",
       "      <th>statement</th>\n",
       "      <th>source</th>\n",
       "    </tr>\n",
       "  </thead>\n",
       "  <tbody>\n",
       "    <tr>\n",
       "      <th>2174</th>\n",
       "      <td>44</td>\n",
       "      <td>1548</td>\n",
       "      <td>1034</td>\n",
       "    </tr>\n",
       "    <tr>\n",
       "      <th>4735</th>\n",
       "      <td>166</td>\n",
       "      <td>627</td>\n",
       "      <td>619</td>\n",
       "    </tr>\n",
       "    <tr>\n",
       "      <th>1151</th>\n",
       "      <td>105</td>\n",
       "      <td>603</td>\n",
       "      <td>302</td>\n",
       "    </tr>\n",
       "    <tr>\n",
       "      <th>4684</th>\n",
       "      <td>223</td>\n",
       "      <td>1061</td>\n",
       "      <td>295</td>\n",
       "    </tr>\n",
       "    <tr>\n",
       "      <th>1528</th>\n",
       "      <td>248</td>\n",
       "      <td>2704</td>\n",
       "      <td>940</td>\n",
       "    </tr>\n",
       "  </tbody>\n",
       "</table>\n",
       "</div>"
      ],
      "text/plain": [
       "      author  statement  source\n",
       "2174      44       1548    1034\n",
       "4735     166        627     619\n",
       "1151     105        603     302\n",
       "4684     223       1061     295\n",
       "1528     248       2704     940"
      ]
     },
     "execution_count": 14,
     "metadata": {},
     "output_type": "execute_result"
    }
   ],
   "source": [
    "X_train[cat_atr].head()"
   ]
  },
  {
   "cell_type": "code",
   "execution_count": 15,
   "id": "775ec756",
   "metadata": {},
   "outputs": [
    {
     "data": {
      "text/plain": [
       "(3409, 3)"
      ]
     },
     "execution_count": 15,
     "metadata": {},
     "output_type": "execute_result"
    }
   ],
   "source": [
    "Xtr = X_train[cat_atr]\n",
    "Xtr.shape "
   ]
  },
  {
   "cell_type": "code",
   "execution_count": 16,
   "id": "3a4c4028",
   "metadata": {},
   "outputs": [
    {
     "data": {
      "text/plain": [
       "KNeighborsClassifier(metric='euclidean')"
      ]
     },
     "execution_count": 16,
     "metadata": {},
     "output_type": "execute_result"
    }
   ],
   "source": [
    "from sklearn.neighbors import KNeighborsClassifier\n",
    "knn = KNeighborsClassifier(n_neighbors=5, metric='euclidean')\n",
    "knn.fit(Xtr, y_train)"
   ]
  },
  {
   "cell_type": "code",
   "execution_count": 17,
   "id": "49b16c14",
   "metadata": {},
   "outputs": [
    {
     "name": "stderr",
     "output_type": "stream",
     "text": [
      "C:\\ProgramData\\Anaconda31\\lib\\site-packages\\pandas\\core\\frame.py:3191: SettingWithCopyWarning: \n",
      "A value is trying to be set on a copy of a slice from a DataFrame.\n",
      "Try using .loc[row_indexer,col_indexer] = value instead\n",
      "\n",
      "See the caveats in the documentation: https://pandas.pydata.org/pandas-docs/stable/user_guide/indexing.html#returning-a-view-versus-a-copy\n",
      "  self[k1] = value[k2]\n"
     ]
    },
    {
     "data": {
      "text/plain": [
       "(1461, 3)"
      ]
     },
     "execution_count": 17,
     "metadata": {},
     "output_type": "execute_result"
    }
   ],
   "source": [
    "le = LabelEncoder()\n",
    "X_test[cat_atr] = X_test[cat_atr].apply(le.fit_transform)\n",
    "\n",
    "Xtr1 = X_test[cat_atr] \n",
    "Xtr1.shape "
   ]
  },
  {
   "cell_type": "code",
   "execution_count": 18,
   "id": "5564243a",
   "metadata": {},
   "outputs": [
    {
     "data": {
      "text/plain": [
       "array([[ 95, 634],\n",
       "       [147, 585]], dtype=int64)"
      ]
     },
     "execution_count": 18,
     "metadata": {},
     "output_type": "execute_result"
    }
   ],
   "source": [
    "from sklearn.metrics import confusion_matrix\n",
    "y_pred = knn.predict(Xtr1)\n",
    "confusion_matrix(y_test, y_pred)"
   ]
  },
  {
   "cell_type": "code",
   "execution_count": 19,
   "id": "6ea2848e",
   "metadata": {},
   "outputs": [
    {
     "data": {
      "text/plain": [
       "0.4654346338124572"
      ]
     },
     "execution_count": 19,
     "metadata": {},
     "output_type": "execute_result"
    }
   ],
   "source": [
    "from sklearn.metrics import accuracy_score\n",
    "accuracy_score(y_test, y_pred)"
   ]
  },
  {
   "cell_type": "code",
   "execution_count": 20,
   "id": "b6b2e4d1",
   "metadata": {},
   "outputs": [
    {
     "data": {
      "text/plain": [
       "(array([0.39256198, 0.47990156]),\n",
       " array([0.1303155 , 0.79918033]),\n",
       " array([0.19567456, 0.59969247]),\n",
       " array([729, 732], dtype=int64))"
      ]
     },
     "execution_count": 20,
     "metadata": {},
     "output_type": "execute_result"
    }
   ],
   "source": [
    "from sklearn.metrics import precision_recall_fscore_support\n",
    "precision_recall_fscore_support(y_test, y_pred)"
   ]
  },
  {
   "cell_type": "code",
   "execution_count": 21,
   "id": "1009b313",
   "metadata": {},
   "outputs": [
    {
     "data": {
      "text/plain": [
       "0.47990155865463496"
      ]
     },
     "execution_count": 21,
     "metadata": {},
     "output_type": "execute_result"
    }
   ],
   "source": [
    "from sklearn.metrics import precision_score\n",
    "precision_score(y_test, y_pred)"
   ]
  },
  {
   "cell_type": "code",
   "execution_count": 22,
   "id": "a566d0ce",
   "metadata": {},
   "outputs": [
    {
     "data": {
      "text/plain": [
       "0.7991803278688525"
      ]
     },
     "execution_count": 22,
     "metadata": {},
     "output_type": "execute_result"
    }
   ],
   "source": [
    "from sklearn.metrics import recall_score\n",
    "recall_score(y_test, y_pred)"
   ]
  },
  {
   "cell_type": "code",
   "execution_count": 23,
   "id": "e1e9b538",
   "metadata": {},
   "outputs": [
    {
     "data": {
      "text/plain": [
       "0.5996924654023579"
      ]
     },
     "execution_count": 23,
     "metadata": {},
     "output_type": "execute_result"
    }
   ],
   "source": [
    "from sklearn.metrics import f1_score\n",
    "f1_score(y_test, y_pred)"
   ]
  },
  {
   "cell_type": "code",
   "execution_count": 24,
   "id": "39871738",
   "metadata": {},
   "outputs": [
    {
     "data": {
      "image/png": "[encoded data removed]",
      "text/plain": [
       "<Figure size 720x432 with 1 Axes>"
      ]
     },
     "metadata": {
      "needs_background": "light"
     },
     "output_type": "display_data"
    },
    {
     "name": "stdout",
     "output_type": "stream",
     "text": [
      "Minimum error:- 0.5092402464065708 at K = 33\n"
     ]
    }
   ],
   "source": [
    "error_rate = []\n",
    "for i in range(1,40):\n",
    " knn = KNeighborsClassifier(n_neighbors=i)\n",
    " knn.fit(Xtr,y_train)\n",
    " pred_i = knn.predict(Xtr1)\n",
    " error_rate.append(1-accuracy_score(y_test, pred_i))\n",
    "\n",
    "plt.figure(figsize=(10,6))\n",
    "plt.plot(range(1,40),error_rate,color='blue', linestyle='dashed', \n",
    "         marker='o',markerfacecolor='red', markersize=10)\n",
    "plt.title('Error Rate vs. K Value')\n",
    "plt.xlabel('K')\n",
    "plt.ylabel('Error Rate')\n",
    "plt.show()\n",
    "print(\"Minimum error:-\",min(error_rate),\"at K =\",error_rate.index(min(error_rate))+1)"
   ]
  },
  {
   "cell_type": "code",
   "execution_count": 25,
   "id": "26260c93",
   "metadata": {},
   "outputs": [
    {
     "data": {
      "text/plain": [
       "KNeighborsClassifier(metric='euclidean', n_neighbors=36)"
      ]
     },
     "execution_count": 25,
     "metadata": {},
     "output_type": "execute_result"
    }
   ],
   "source": [
    "knn = KNeighborsClassifier(n_neighbors=36, metric='euclidean')\n",
    "knn.fit(Xtr, y_train)"
   ]
  },
  {
   "cell_type": "code",
   "execution_count": 26,
   "id": "314d9cf1",
   "metadata": {},
   "outputs": [
    {
     "data": {
      "text/plain": [
       "0.48186173853524983"
      ]
     },
     "execution_count": 26,
     "metadata": {},
     "output_type": "execute_result"
    }
   ],
   "source": [
    "y_pred = knn.predict(Xtr1)\n",
    "accuracy_score(y_test, y_pred)"
   ]
  },
  {
   "cell_type": "markdown",
   "id": "6802dc37",
   "metadata": {},
   "source": [
    "Decision Tree Classification"
   ]
  },
  {
   "cell_type": "code",
   "execution_count": 27,
   "id": "df36e03a",
   "metadata": {},
   "outputs": [],
   "source": [
    "from sklearn.model_selection import train_test_split\n",
    "from sklearn.preprocessing import StandardScaler\n",
    "from sklearn.tree import DecisionTreeClassifier\n",
    "from sklearn.tree import export_graphviz\n",
    "from sklearn.datasets import load_iris\n",
    "from sklearn.tree import plot_tree\n",
    "import matplotlib.pyplot as plt\n",
    "from IPython.core.interactiveshell import InteractiveShell\n",
    "InteractiveShell.ast_node_interactivity = \"all\""
   ]
  },
  {
   "cell_type": "code",
   "execution_count": 28,
   "id": "41074970",
   "metadata": {},
   "outputs": [],
   "source": [
    "X= df.drop(['BinaryNumTarget', 'BinaryTarget', 'target'], axis=1)\n",
    "y= df['BinaryNumTarget']\n",
    "\n",
    "\n",
    "X_train,X_test,y_train,y_test=train_test_split(X,y,test_size=0.3,random_state=1)"
   ]
  },
  {
   "cell_type": "code",
   "execution_count": 29,
   "id": "c5e58f46",
   "metadata": {},
   "outputs": [
    {
     "data": {
      "text/plain": [
       "DecisionTreeClassifier()"
      ]
     },
     "execution_count": 29,
     "metadata": {},
     "output_type": "execute_result"
    }
   ],
   "source": [
    "dt = DecisionTreeClassifier(criterion=\"gini\", max_depth=None)\n",
    "dt.fit(Xtr,y_train)"
   ]
  },
  {
   "cell_type": "code",
   "execution_count": 30,
   "id": "909f7c1f",
   "metadata": {},
   "outputs": [
    {
     "data": {
      "text/plain": [
       "0.4893908281998631"
      ]
     },
     "execution_count": 30,
     "metadata": {},
     "output_type": "execute_result"
    }
   ],
   "source": [
    "y_pred = dt.predict(Xtr1)\n",
    "np.sum((y_test == y_pred))/y_test.size"
   ]
  },
  {
   "cell_type": "code",
   "execution_count": 31,
   "id": "1ba7b832",
   "metadata": {},
   "outputs": [
    {
     "data": {
      "image/png": "[encoded data removed]",
      "text/plain": [
       "<Figure size 1080x1080 with 1 Axes>"
      ]
     },
     "metadata": {
      "needs_background": "light"
     },
     "output_type": "display_data"
    }
   ],
   "source": [
    "_=plt.figure(figsize=(15,15))\n",
    "_=plot_tree(\n",
    "            dt,\n",
    "            max_depth = 3,  # Draw upto depth of 3\n",
    "            rounded = True, # Rounded boxes\n",
    "            filled = True,  # Boxes filled with color\n",
    "            impurity = True,# Show impurity level\n",
    "            node_ids = True,# Display node_id\n",
    "            feature_names = ['author', 'statement', 'source', 'target', 'BinaryTarget',\n",
    "       'BinaryNumTarget'],\n",
    "            class_names = ['0',' 1']\n",
    "            )\n",
    "\n",
    "_=plt.show()"
   ]
  },
  {
   "cell_type": "markdown",
   "id": "9a7a5824",
   "metadata": {},
   "source": [
    "Random Forest Classifier"
   ]
  },
  {
   "cell_type": "code",
   "execution_count": 32,
   "id": "4c8ba00f",
   "metadata": {},
   "outputs": [],
   "source": [
    "from sklearn.preprocessing import StandardScaler\n",
    "from sklearn.metrics import mean_squared_error,r2_score \n",
    "from sklearn.preprocessing import OneHotEncoder as onehot\n",
    "from sklearn.preprocessing import LabelEncoder"
   ]
  },
  {
   "cell_type": "code",
   "execution_count": 33,
   "id": "dd24b449",
   "metadata": {},
   "outputs": [],
   "source": [
    "X= df.drop(['BinaryNumTarget', 'BinaryTarget', 'target'], axis=1)\n",
    "y= df['BinaryNumTarget']\n",
    "\n",
    "\n",
    "X_train,X_test,y_train,y_test=train_test_split(X,y,test_size=0.3,random_state=1)"
   ]
  },
  {
   "cell_type": "code",
   "execution_count": 34,
   "id": "852cdf61",
   "metadata": {},
   "outputs": [
    {
     "name": "stderr",
     "output_type": "stream",
     "text": [
      "C:\\ProgramData\\Anaconda31\\lib\\site-packages\\pandas\\core\\frame.py:3191: SettingWithCopyWarning: \n",
      "A value is trying to be set on a copy of a slice from a DataFrame.\n",
      "Try using .loc[row_indexer,col_indexer] = value instead\n",
      "\n",
      "See the caveats in the documentation: https://pandas.pydata.org/pandas-docs/stable/user_guide/indexing.html#returning-a-view-versus-a-copy\n",
      "  self[k1] = value[k2]\n"
     ]
    }
   ],
   "source": [
    "le = LabelEncoder()\n",
    "X_train[cat_atr] = X_train[cat_atr].apply(le.fit_transform)"
   ]
  },
  {
   "cell_type": "code",
   "execution_count": 35,
   "id": "4136ec3e",
   "metadata": {},
   "outputs": [
    {
     "data": {
      "text/plain": [
       "(1461, 3)"
      ]
     },
     "execution_count": 35,
     "metadata": {},
     "output_type": "execute_result"
    }
   ],
   "source": [
    "le = LabelEncoder()\n",
    "X_test[cat_atr] = X_test[cat_atr].apply(le.fit_transform)\n",
    "\n",
    "Xtr1 = X_test[cat_atr] \n",
    "Xtr1.shape "
   ]
  },
  {
   "cell_type": "code",
   "execution_count": 36,
   "id": "756a90d9",
   "metadata": {},
   "outputs": [
    {
     "data": {
      "text/plain": [
       "RandomForestClassifier()"
      ]
     },
     "execution_count": 36,
     "metadata": {},
     "output_type": "execute_result"
    }
   ],
   "source": [
    "from sklearn.ensemble import RandomForestClassifier\n",
    "\n",
    "clf=RandomForestClassifier(n_estimators=100)\n",
    "clf.fit(Xtr,y_train)\n",
    "y_pred=clf.predict(Xtr1)"
   ]
  },
  {
   "cell_type": "code",
   "execution_count": 37,
   "id": "dd494d5b",
   "metadata": {},
   "outputs": [
    {
     "name": "stdout",
     "output_type": "stream",
     "text": [
      "Accuracy: 0.48459958932238195\n"
     ]
    }
   ],
   "source": [
    "from sklearn import metrics\n",
    "print(\"Accuracy:\",metrics.accuracy_score(y_test, y_pred))"
   ]
  },
  {
   "cell_type": "code",
   "execution_count": 38,
   "id": "e5716f27",
   "metadata": {},
   "outputs": [
    {
     "data": {
      "text/plain": [
       "array([[ 24, 705],\n",
       "       [ 48, 684]], dtype=int64)"
      ]
     },
     "execution_count": 38,
     "metadata": {},
     "output_type": "execute_result"
    }
   ],
   "source": [
    "from sklearn.metrics import classification_report\n",
    "from sklearn.metrics import confusion_matrix\n",
    "metrics.confusion_matrix(y_test, y_pred)"
   ]
  },
  {
   "cell_type": "code",
   "execution_count": 39,
   "id": "d0a65d15",
   "metadata": {},
   "outputs": [
    {
     "name": "stdout",
     "output_type": "stream",
     "text": [
      "              precision    recall  f1-score   support\n",
      "\n",
      "           0       0.33      0.03      0.06       729\n",
      "           1       0.49      0.93      0.64       732\n",
      "\n",
      "    accuracy                           0.48      1461\n",
      "   macro avg       0.41      0.48      0.35      1461\n",
      "weighted avg       0.41      0.48      0.35      1461\n",
      "\n"
     ]
    }
   ],
   "source": [
    "print(classification_report(y_test, y_pred))"
   ]
  },
  {
   "cell_type": "code",
   "execution_count": 40,
   "id": "5cb1c5df",
   "metadata": {},
   "outputs": [
    {
     "data": {
      "text/plain": [
       "RandomForestClassifier()"
      ]
     },
     "execution_count": 40,
     "metadata": {},
     "output_type": "execute_result"
    }
   ],
   "source": [
    "from sklearn.ensemble import RandomForestClassifier\n",
    "#clf=RandomForestClassifier(n_estimators=100)\n",
    "#clf.fit(X_train,y_train)\n",
    "\n",
    "#Create a Gaussian Classifier\n",
    "clf=RandomForestClassifier(n_estimators=100)\n",
    "\n",
    "#Train the model using the training sets y_pred=clf.predict(X_test)\n",
    "clf.fit(X_train,y_train)\n",
    "\n",
    "y_pred=clf.predict(X_test)"
   ]
  },
  {
   "cell_type": "code",
   "execution_count": 41,
   "id": "34ad2b95",
   "metadata": {},
   "outputs": [
    {
     "data": {
      "text/plain": [
       "Index(['author', 'statement', 'source', 'target', 'BinaryTarget',\n",
       "       'BinaryNumTarget'],\n",
       "      dtype='object')"
      ]
     },
     "execution_count": 41,
     "metadata": {},
     "output_type": "execute_result"
    }
   ],
   "source": [
    "df.columns"
   ]
  },
  {
   "cell_type": "code",
   "execution_count": 42,
   "id": "7c14ff55",
   "metadata": {},
   "outputs": [
    {
     "name": "stderr",
     "output_type": "stream",
     "text": [
      "<ipython-input-42-10b814720e0d>:1: UserWarning: Pandas doesn't allow columns to be created via a new attribute name - see https://pandas.pydata.org/pandas-docs/stable/indexing.html#attribute-access\n",
      "  df.feature_names = df[['author', 'statement', 'source']]\n",
      "<ipython-input-42-10b814720e0d>:2: UserWarning: Pandas doesn't allow columns to be created via a new attribute name - see https://pandas.pydata.org/pandas-docs/stable/indexing.html#attribute-access\n",
      "  df.target_names = df['BinaryNumTarget']\n"
     ]
    }
   ],
   "source": [
    "df.feature_names = df[['author', 'statement', 'source']]\n",
    "df.target_names = df['BinaryNumTarget']"
   ]
  },
  {
   "cell_type": "code",
   "execution_count": 43,
   "id": "757414e0",
   "metadata": {},
   "outputs": [
    {
     "data": {
      "text/plain": [
       "2    0.412636\n",
       "1    0.329653\n",
       "0    0.257711\n",
       "dtype: float64"
      ]
     },
     "execution_count": 43,
     "metadata": {},
     "output_type": "execute_result"
    }
   ],
   "source": [
    "import pandas as pd\n",
    "feature_imp = pd.Series(clf.feature_importances_).sort_values(ascending=False)\n",
    "feature_imp"
   ]
  },
  {
   "cell_type": "code",
   "execution_count": 44,
   "id": "28773f06",
   "metadata": {},
   "outputs": [
    {
     "data": {
      "text/plain": [
       "[('author', 0.4126362993968481),\n",
       " ('statement', 0.32965278354541766),\n",
       " ('source', 0.2577109170577344)]"
      ]
     },
     "execution_count": 44,
     "metadata": {},
     "output_type": "execute_result"
    }
   ],
   "source": [
    "list(zip(df.columns, feature_imp))"
   ]
  },
  {
   "cell_type": "code",
   "execution_count": 45,
   "id": "baa8f474",
   "metadata": {},
   "outputs": [
    {
     "data": {
      "text/plain": [
       "<AxesSubplot:>"
      ]
     },
     "execution_count": 45,
     "metadata": {},
     "output_type": "execute_result"
    },
    {
     "data": {
      "text/plain": [
       "Text(0.5, 0, 'Feature Importance Score')"
      ]
     },
     "execution_count": 45,
     "metadata": {},
     "output_type": "execute_result"
    },
    {
     "data": {
      "text/plain": [
       "Text(0, 0.5, 'Features')"
      ]
     },
     "execution_count": 45,
     "metadata": {},
     "output_type": "execute_result"
    },
    {
     "data": {
      "text/plain": [
       "Text(0.5, 1.0, 'Visualizing Important Features')"
      ]
     },
     "execution_count": 45,
     "metadata": {},
     "output_type": "execute_result"
    },
    {
     "name": "stderr",
     "output_type": "stream",
     "text": [
      "No handles with labels found to put in legend.\n"
     ]
    },
    {
     "data": {
      "text/plain": [
       "<matplotlib.legend.Legend at 0x150218b57c0>"
      ]
     },
     "execution_count": 45,
     "metadata": {},
     "output_type": "execute_result"
    },
    {
     "data": {
      "image/png": "[encoded data removed]",
      "text/plain": [
       "<Figure size 432x288 with 1 Axes>"
      ]
     },
     "metadata": {
      "needs_background": "light"
     },
     "output_type": "display_data"
    }
   ],
   "source": [
    "#visualizing feature importance results\n",
    "import matplotlib.pyplot as plt\n",
    "import seaborn as sns\n",
    "%matplotlib inline\n",
    "# Creating a bar plot\n",
    "sns.barplot(x=feature_imp, y=feature_imp.index)\n",
    "# Add labels to your graph\n",
    "plt.xlabel('Feature Importance Score')\n",
    "plt.ylabel('Features')\n",
    "plt.title(\"Visualizing Important Features\")\n",
    "plt.legend()\n",
    "plt.show()"
   ]
  },
  {
   "cell_type": "code",
   "execution_count": 46,
   "id": "5d11c008",
   "metadata": {},
   "outputs": [
    {
     "name": "stdout",
     "output_type": "stream",
     "text": [
      "Accuracy: 0.4757015742642026\n"
     ]
    }
   ],
   "source": [
    "#Import scikit-learn metrics module for accuracy calculation\n",
    "from sklearn import metrics\n",
    "# Model Accuracy, how often is the classifier correct?\n",
    "print(\"Accuracy:\",metrics.accuracy_score(y_test, y_pred))"
   ]
  },
  {
   "cell_type": "code",
   "execution_count": 47,
   "id": "a04ddfb1",
   "metadata": {},
   "outputs": [
    {
     "name": "stdout",
     "output_type": "stream",
     "text": [
      "              precision    recall  f1-score   support\n",
      "\n",
      "           0       0.24      0.02      0.04       729\n",
      "           1       0.49      0.93      0.64       732\n",
      "\n",
      "    accuracy                           0.48      1461\n",
      "   macro avg       0.36      0.47      0.34      1461\n",
      "weighted avg       0.36      0.48      0.34      1461\n",
      "\n"
     ]
    }
   ],
   "source": [
    "print(classification_report(y_test, y_pred))"
   ]
  },
  {
   "cell_type": "code",
   "execution_count": null,
   "id": "d8d41be9",
   "metadata": {},
   "outputs": [],
   "source": []
  }
 ],
 "metadata": {
  "kernelspec": {
   "display_name": "Python 3",
   "language": "python",
   "name": "python3"
  },
  "language_info": {
   "codemirror_mode": {
    "name": "ipython",
    "version": 3
   },
   "file_extension": ".py",
   "mimetype": "text/x-python",
   "name": "python",
   "nbconvert_exporter": "python",
   "pygments_lexer": "ipython3",
   "version": "3.8.8"
  }
 },
 "nbformat": 4,
 "nbformat_minor": 5
}
